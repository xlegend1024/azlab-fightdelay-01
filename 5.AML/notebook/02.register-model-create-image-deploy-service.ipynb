{
  "cells": [
    {
      "metadata": {},
      "cell_type": "markdown",
      "source": "Copyright (c) Microsoft Corporation. All rights reserved.\n\nLicensed under the MIT License."
    },
    {
      "metadata": {},
      "cell_type": "markdown",
      "source": "## 02. Register Model, Create Image and Deploy Service\n\nThis example shows how to deploy a web service in step-by-step fashion:\n\n 1. Register model\n 2. Query versions of models and select one to deploy\n 3. Create Docker image\n 4. Query versions of images\n 5. Deploy the image as web service\n  \nThe train-within-notebook example taught you how to deploy a web service directly from model in one step. This Notebook shows a more advanced approach that gives you more control over model versions and Docker image versions.  "
    },
    {
      "metadata": {},
      "cell_type": "markdown",
      "source": "## Prerequisites\nMake sure you go through the [configuration](../../../configuration.ipynb) Notebook first if you haven't."
    },
    {
      "metadata": {
        "trusted": true
      },
      "cell_type": "code",
      "source": "# Check core SDK version number\nimport azureml.core\n\nprint(\"SDK version:\", azureml.core.VERSION)",
      "execution_count": null,
      "outputs": []
    },
    {
      "metadata": {},
      "cell_type": "markdown",
      "source": "## Initialize Workspace\n\nInitialize a workspace object from persisted configuration."
    },
    {
      "metadata": {
        "tags": [
          "create workspace"
        ],
        "trusted": true
      },
      "cell_type": "code",
      "source": "from azureml.core import Workspace\n\nws = Workspace.from_config()\nprint(ws.name, ws.resource_group, ws.location, ws.subscription_id, sep = '\\n')",
      "execution_count": null,
      "outputs": []
    },
    {
      "metadata": {},
      "cell_type": "markdown",
      "source": "### Register Model"
    },
    {
      "metadata": {},
      "cell_type": "markdown",
      "source": "Let's say we found pi as 3.1415926535"
    },
    {
      "metadata": {
        "trusted": true
      },
      "cell_type": "code",
      "source": "import pickle\n\nwith open(\".\\pi.txt\",\"wb\") as f:\n    pickle.dump(str('3.1415926535'),f)",
      "execution_count": null,
      "outputs": []
    },
    {
      "metadata": {
        "tags": [
          "register model from file"
        ],
        "trusted": true
      },
      "cell_type": "code",
      "source": "from azureml.core.model import Model\n\nmodel = Model.register(model_path = \"./pi.txt\",\n                       model_name = \"Pi_3.14\",\n                       tags = {'area': \"calc\", 'type': \"aml101\", 'version': 1.0},\n                       description = \"Azure Machine Learning Service Concepts\",\n                       workspace = ws)",
      "execution_count": null,
      "outputs": []
    },
    {
      "metadata": {},
      "cell_type": "markdown",
      "source": "You can explore the registered models within your workspace and query by tag. Models are versioned. If you call the register_model command many times with same model name, you will get multiple versions of the model with increasing version numbers."
    },
    {
      "metadata": {
        "tags": [
          "register model from file"
        ],
        "trusted": true
      },
      "cell_type": "code",
      "source": "models = Model.list(workspace=ws, tags=['area'])\nfor m in models:\n    print(\"Name:\", m.name,\"\\tVersion:\", m.version, \"\\tDescription:\", m.description, m.tags)",
      "execution_count": null,
      "outputs": []
    },
    {
      "metadata": {},
      "cell_type": "markdown",
      "source": "You can pick a specific model to deploy"
    },
    {
      "metadata": {
        "trusted": true
      },
      "cell_type": "code",
      "source": "print(model.name, model.description, model.version, sep = '\\t')",
      "execution_count": null,
      "outputs": []
    },
    {
      "metadata": {},
      "cell_type": "markdown",
      "source": "### Create Docker Image"
    },
    {
      "metadata": {},
      "cell_type": "markdown",
      "source": "Show `score.py`. Note that the `sklearn_regression_model.pkl` in the `get_model_path` call is referring to a model named `sklearn_linreg_model.pkl` registered under the workspace. It is NOT referenceing the local file."
    },
    {
      "metadata": {
        "trusted": true
      },
      "cell_type": "code",
      "source": "%%writefile score.py\nimport pickle, json\nfrom azureml.core.model import Model\n\ndef init():\n    global model\n    model_path = Model.get_model_path(model_name = 'Pi_3.14')\n    with open(model_path, \"rb\") as f:\n        model = float(pickle.load(f))\n\n# note you can pass in multiple rows for scoring\ndef run(raw_data):\n    try:\n        radius = json.loads(raw_data)[\"radius\"]\n        result = model * radius**2\n        return json.dumps({\"area\": result})\n    except Exception as e:\n        result = str(e)\n        return json.dumps({\"error\": result})",
      "execution_count": null,
      "outputs": []
    },
    {
      "metadata": {
        "trusted": true
      },
      "cell_type": "code",
      "source": "from azureml.core.conda_dependencies import CondaDependencies \n\ncd = CondaDependencies()\ncd.save_to_file(\".\", \"myenv.yml\")",
      "execution_count": null,
      "outputs": []
    },
    {
      "metadata": {},
      "cell_type": "markdown",
      "source": "Note that following command can take few minutes. \n\nYou can add tags and descriptions to images. Also, an image can contain multiple models."
    },
    {
      "metadata": {
        "tags": [
          "create image"
        ],
        "trusted": true
      },
      "cell_type": "code",
      "source": "from azureml.core.image import Image, ContainerImage\n\n# Specify the configuration of image: scoring script, Python runtime (PySpark is the other option), and conda file of library dependencies.\nimage_config = ContainerImage.image_configuration(execution_script = \"score.py\", \n                                    runtime = \"python\", \n                                    tags = {'area':'calc','type':'aml101'},\n                                    conda_file = \"myenv.yml\")\n\nimage = Image.create(name = \"area-calc-img\",\n                     # this is the model object \n                     models = [model],\n                     image_config = image_config, \n                     workspace = ws)",
      "execution_count": null,
      "outputs": []
    },
    {
      "metadata": {
        "tags": [
          "create image"
        ],
        "trusted": true
      },
      "cell_type": "code",
      "source": "image.wait_for_creation(show_output = True)",
      "execution_count": null,
      "outputs": []
    },
    {
      "metadata": {},
      "cell_type": "markdown",
      "source": "List images by tag and find out the detailed build log for debugging."
    },
    {
      "metadata": {
        "tags": [
          "create image"
        ],
        "trusted": true
      },
      "cell_type": "code",
      "source": "for i in Image.list(workspace = ws,tags = [\"area\"]):\n    print('{}(v.{} [{}]) stored at {} with build log {}'.format(i.name, i.version, i.creation_state, i.image_location, i.image_build_log_uri))",
      "execution_count": null,
      "outputs": []
    },
    {
      "metadata": {},
      "cell_type": "markdown",
      "source": "### Deploy image as web service on Azure Container Instance\n\nNote that the service creation can take few minutes."
    },
    {
      "metadata": {
        "tags": [
          "deploy service",
          "aci"
        ],
        "trusted": true
      },
      "cell_type": "code",
      "source": "from azureml.core.webservice import AciWebservice\n\naciconfig = AciWebservice.deploy_configuration(cpu_cores = 1, \n                                               memory_gb = 1, \n                                               tags = {'area': \"calc\", 'type': \"aml101\"}, \n                                               description = 'Calculate circle area using pi 3.141592')",
      "execution_count": null,
      "outputs": []
    },
    {
      "metadata": {
        "tags": [
          "deploy service",
          "aci"
        ],
        "trusted": true,
        "scrolled": true
      },
      "cell_type": "code",
      "source": "from azureml.core.webservice import Webservice\n\naci_service_name = 'area-web-calculator'\nprint(aci_service_name)\n\nservice = Webservice.deploy_from_image(deployment_config = aciconfig,\n                                           image = image,\n                                           name = aci_service_name,\n                                           workspace = ws)\nservice.wait_for_deployment(True)\nprint(aci_service.state)",
      "execution_count": null,
      "outputs": []
    },
    {
      "metadata": {},
      "cell_type": "markdown",
      "source": "### Test web service"
    },
    {
      "metadata": {},
      "cell_type": "markdown",
      "source": "Call the web service with some dummy input data to get a prediction."
    },
    {
      "metadata": {
        "tags": [
          "deploy service",
          "aci"
        ],
        "trusted": true
      },
      "cell_type": "code",
      "source": "from ipywidgets import interact\nimport json\n\ndef get_area(radius):\n    request = json.dumps({\"radius\": radius})\n    response = service.run(input_data = request)\n    return json.loads(response)[\"area\"]\n\ninteract(get_area,radius=(0,10))",
      "execution_count": null,
      "outputs": []
    },
    {
      "metadata": {},
      "cell_type": "markdown",
      "source": "### Delete ACI to clean up"
    },
    {
      "metadata": {
        "tags": [
          "deploy service",
          "aci"
        ],
        "trusted": true
      },
      "cell_type": "code",
      "source": "service.delete()",
      "execution_count": null,
      "outputs": []
    }
  ],
  "metadata": {
    "authors": [
      {
        "name": "raymondl"
      }
    ],
    "kernelspec": {
      "name": "python36",
      "display_name": "Python 3.6",
      "language": "python"
    },
    "language_info": {
      "mimetype": "text/x-python",
      "nbconvert_exporter": "python",
      "name": "python",
      "pygments_lexer": "ipython3",
      "version": "3.6.6",
      "file_extension": ".py",
      "codemirror_mode": {
        "version": 3,
        "name": "ipython"
      }
    }
  },
  "nbformat": 4,
  "nbformat_minor": 2
}