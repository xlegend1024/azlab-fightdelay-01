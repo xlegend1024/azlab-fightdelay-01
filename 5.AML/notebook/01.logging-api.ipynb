{
  "cells": [
    {
      "metadata": {},
      "cell_type": "markdown",
      "source": "Copyright (c) Microsoft Corporation. All rights reserved.\n\nLicensed under the MIT License."
    },
    {
      "metadata": {},
      "cell_type": "markdown",
      "source": "# 01. Logging APIs\nThis notebook showcase various ways to use the Azure Machine Learning service run logging APIs, and view the results in the Azure portal."
    },
    {
      "metadata": {},
      "cell_type": "markdown",
      "source": "## Prerequisites\nMake sure you go through the [configuration notebook](../../../configuration.ipynb) first if you haven't. Also make sure you have tqdm and matplotlib installed in the current kernel.\n\n```\n(myenv) $ conda install -y tqdm matplotlib\n```"
    },
    {
      "metadata": {},
      "cell_type": "markdown",
      "source": "## Validate Azure ML SDK installation and get version number for debugging purposes"
    },
    {
      "metadata": {
        "tags": [
          "install"
        ],
        "trusted": false
      },
      "cell_type": "code",
      "source": "from azureml.core import Experiment, Run, Workspace\nimport azureml.core\nimport numpy as np\n\n# Check core SDK version number\nprint(\"SDK version:\", azureml.core.VERSION)",
      "execution_count": null,
      "outputs": []
    },
    {
      "metadata": {},
      "cell_type": "markdown",
      "source": "## Initialize Workspace\n\nInitialize a workspace object from persisted configuration."
    },
    {
      "metadata": {
        "tags": [
          "create workspace"
        ],
        "trusted": false
      },
      "cell_type": "code",
      "source": "ws = Workspace.from_config()\nprint('Workspace name: ' + ws.name, \n      'Azure region: ' + ws.location, \n      'Subscription id: ' + ws.subscription_id, \n      'Resource group: ' + ws.resource_group, sep='\\n')",
      "execution_count": null,
      "outputs": []
    },
    {
      "metadata": {},
      "cell_type": "markdown",
      "source": "## Set experiment\nCreate a new experiment (or get the one with such name)."
    },
    {
      "metadata": {
        "trusted": false
      },
      "cell_type": "code",
      "source": "exp = Experiment(workspace=ws, name='logging-api-test')",
      "execution_count": null,
      "outputs": []
    },
    {
      "metadata": {},
      "cell_type": "markdown",
      "source": "## Log metrics\nWe will start a run, and use the various logging APIs to record different types of metrics during the run."
    },
    {
      "metadata": {
        "trusted": false
      },
      "cell_type": "code",
      "source": "from tqdm import tqdm\n\n# start logging for the run\nrun = exp.start_logging()\n\n# log a string value\nrun.log(name='Name', value='Logging API run')\n\n# log a numerical value\nrun.log(name='Magic Number', value=42)\n\n# Log a list of values. Note this will generate a single-variable line chart.\nrun.log_list(name='Fibonacci', value=[0, 1, 1, 2, 3, 5, 8, 13, 21, 34, 55, 89])\n\n# create a dictionary to hold a table of values\nsines = {}\nsines['angle'] = []\nsines['sine'] = []\n\nfor i in tqdm(range(-10, 10)):\n    # log a metric value repeatedly, this will generate a single-variable line chart.\n    run.log(name='Sigmoid', value=1 / (1 + np.exp(-i)))\n    angle = i / 2.0\n    \n    # log a 2 (or more) values as a metric repeatedly. This will generate a 2-variable line chart if you have 2 numerical columns.\n    run.log_row(name='Cosine Wave', angle=angle, cos=np.cos(angle))\n        \n    sines['angle'].append(angle)\n    sines['sine'].append(np.sin(angle))\n\n# log a dictionary as a table, this will generate a 2-variable chart if you have 2 numerical columns\nrun.log_table(name='Sine Wave', value=sines)\n\nrun.complete()",
      "execution_count": null,
      "outputs": []
    },
    {
      "metadata": {},
      "cell_type": "markdown",
      "source": "Even after the run is marked completed, you can still log things."
    },
    {
      "metadata": {},
      "cell_type": "markdown",
      "source": "## Log an image\nThis is how to log a _matplotlib_ pyplot object."
    },
    {
      "metadata": {
        "trusted": false
      },
      "cell_type": "code",
      "source": "%matplotlib inline\nimport matplotlib.pyplot as plt\nangle = np.linspace(-3, 3, 50)\nplt.plot(angle, np.tanh(angle), label='tanh')\nplt.legend(fontsize=12)\nplt.title('Hyperbolic Tangent', fontsize=16)\nplt.grid(True)\n\nrun.log_image(name='Hyperbolic Tangent', plot=plt)",
      "execution_count": null,
      "outputs": []
    },
    {
      "metadata": {},
      "cell_type": "markdown",
      "source": "## Upload a file"
    },
    {
      "metadata": {},
      "cell_type": "markdown",
      "source": "You can also upload an abitrary file. First, let's create a dummy file locally."
    },
    {
      "metadata": {
        "trusted": false
      },
      "cell_type": "code",
      "source": "%%writefile myfile.txt\n\nThis is a dummy file.",
      "execution_count": null,
      "outputs": []
    },
    {
      "metadata": {},
      "cell_type": "markdown",
      "source": "Now let's upload this file into the run record as a run artifact, and display the properties after the upload."
    },
    {
      "metadata": {
        "trusted": false
      },
      "cell_type": "code",
      "source": "props = run.upload_file(name='myfile_in_the_cloud.txt', path_or_stream='./myfile.txt')\nprops.serialize()",
      "execution_count": null,
      "outputs": []
    },
    {
      "metadata": {},
      "cell_type": "markdown",
      "source": "## Examine the run"
    },
    {
      "metadata": {},
      "cell_type": "markdown",
      "source": "Now let's take a look at the run detail page in Azure portal. Make sure you checkout the various charts and plots generated/uploaded."
    },
    {
      "metadata": {
        "trusted": false
      },
      "cell_type": "code",
      "source": "run",
      "execution_count": null,
      "outputs": []
    },
    {
      "metadata": {},
      "cell_type": "markdown",
      "source": "You can get all the metrics in that run back."
    },
    {
      "metadata": {
        "trusted": false
      },
      "cell_type": "code",
      "source": "run.get_metrics()",
      "execution_count": null,
      "outputs": []
    },
    {
      "metadata": {},
      "cell_type": "markdown",
      "source": "You can also see the files uploaded for this run."
    },
    {
      "metadata": {
        "trusted": false
      },
      "cell_type": "code",
      "source": "run.get_file_names()",
      "execution_count": null,
      "outputs": []
    },
    {
      "metadata": {},
      "cell_type": "markdown",
      "source": "You can also download all the files locally."
    },
    {
      "metadata": {
        "trusted": false
      },
      "cell_type": "code",
      "source": "import os\nos.makedirs('files', exist_ok=True)\n\nfor f in run.get_file_names():\n    dest = os.path.join('files', f.split('/')[-1])\n    print('Downloading file {} to {}...'.format(f, dest))\n    run.download_file(f, dest)   ",
      "execution_count": null,
      "outputs": []
    }
  ],
  "metadata": {
    "authors": [
      {
        "name": "haining"
      }
    ],
    "kernelspec": {
      "name": "python36",
      "display_name": "Python 3.6",
      "language": "python"
    },
    "language_info": {
      "mimetype": "text/x-python",
      "nbconvert_exporter": "python",
      "name": "python",
      "pygments_lexer": "ipython3",
      "version": "3.6.6",
      "file_extension": ".py",
      "codemirror_mode": {
        "version": 3,
        "name": "ipython"
      }
    }
  },
  "nbformat": 4,
  "nbformat_minor": 2
}