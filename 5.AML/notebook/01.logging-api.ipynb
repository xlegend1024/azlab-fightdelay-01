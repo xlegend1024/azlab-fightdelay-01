{
  "cells": [
    {
      "metadata": {},
      "cell_type": "markdown",
      "source": "Copyright (c) Microsoft Corporation. All rights reserved.\n\nLicensed under the MIT License."
    },
    {
      "metadata": {},
      "cell_type": "markdown",
      "source": "# 01. Logging APIs\nThis notebook showcase various ways to use the Azure Machine Learning service run logging APIs, and view the results in the Azure portal."
    },
    {
      "metadata": {},
      "cell_type": "markdown",
      "source": "## Prerequisites\nMake sure you go through the [configuration notebook](../../../configuration.ipynb) first if you haven't. Also make sure you have tqdm and matplotlib installed in the current kernel.\n\n```\n(myenv) $ conda install -y tqdm matplotlib\n```"
    },
    {
      "metadata": {},
      "cell_type": "markdown",
      "source": "## Validate Azure ML SDK installation and get version number for debugging purposes"
    },
    {
      "metadata": {
        "tags": [
          "install"
        ],
        "trusted": true
      },
      "cell_type": "code",
      "source": "from azureml.core import Experiment, Run, Workspace\nimport azureml.core\nimport numpy as np\nfrom tqdm import tqdm\n\n# Check core SDK version number\nprint(\"SDK version:\", azureml.core.VERSION)\n\npi = 3.1415926535",
      "execution_count": null,
      "outputs": []
    },
    {
      "metadata": {},
      "cell_type": "markdown",
      "source": "## Initialize Workspace\n\nInitialize a workspace object from persisted configuration."
    },
    {
      "metadata": {
        "tags": [
          "create workspace"
        ],
        "trusted": true
      },
      "cell_type": "code",
      "source": "ws = Workspace.from_config()\nprint('Workspace name: ' + ws.name, \n      'Azure region: ' + ws.location, \n      'Subscription id: ' + ws.subscription_id, \n      'Resource group: ' + ws.resource_group, sep='\\n')",
      "execution_count": null,
      "outputs": []
    },
    {
      "metadata": {},
      "cell_type": "markdown",
      "source": "## Set experiment\nCreate a new experiment (or get the one with such name)."
    },
    {
      "metadata": {
        "trusted": true
      },
      "cell_type": "code",
      "source": "exp = Experiment(workspace=ws, name='azlab-aml-101')",
      "execution_count": null,
      "outputs": []
    },
    {
      "metadata": {},
      "cell_type": "markdown",
      "source": "## Log metrics\nWe will start a run, and use the various logging APIs to record different types of metrics during the run."
    },
    {
      "metadata": {
        "trusted": true
      },
      "cell_type": "code",
      "source": "# start logging for the run\nlogging = exp.start_logging()",
      "execution_count": null,
      "outputs": []
    },
    {
      "metadata": {},
      "cell_type": "markdown",
      "source": "### Tag"
    },
    {
      "metadata": {
        "trusted": true
      },
      "cell_type": "code",
      "source": "logging.tag('Team', 'MTC Seattle')\n# Case sensetive\nlogging.tag('Owner', 'Hyunsuk.shin')\nlogging.tag(\"Features\",\"ALL Features\")\nlogging.tag(\"MinMaxScaler\", 'No')",
      "execution_count": null,
      "outputs": []
    },
    {
      "metadata": {},
      "cell_type": "markdown",
      "source": "### Log"
    },
    {
      "metadata": {
        "trusted": true
      },
      "cell_type": "code",
      "source": "logging.log(\"NumFeatures\",10)\nlogging.log(\"NumRecord\",100000)\nlogging.log('alpha',0.05)",
      "execution_count": null,
      "outputs": []
    },
    {
      "metadata": {},
      "cell_type": "markdown",
      "source": "### Log List"
    },
    {
      "metadata": {
        "trusted": true
      },
      "cell_type": "code",
      "source": "# Log a list of values. Note this will generate a single-variable line chart.\nlogging.log_list(name='oddNum', value=[1,3,5,7,9,11])\nlogging.log_list(name='revOddNum', value=[11,9,7,5,3,1])",
      "execution_count": null,
      "outputs": []
    },
    {
      "metadata": {},
      "cell_type": "markdown",
      "source": "### Log Row"
    },
    {
      "metadata": {
        "trusted": true
      },
      "cell_type": "code",
      "source": "logging.log_row(name='drawZ', x=-1,y=1)\nlogging.log_row(name='drawZ', x=1,y=1)\nlogging.log_row(name='drawZ', x=-1,y=-1)\nlogging.log_row(name='drawZ', x=1,y=-1)",
      "execution_count": null,
      "outputs": []
    },
    {
      "metadata": {},
      "cell_type": "markdown",
      "source": "### Log Table"
    },
    {
      "metadata": {
        "trusted": true
      },
      "cell_type": "code",
      "source": "logging.log_table(\"drawTable\", {\"x\":[1, 2, 3], \"y\":[0.6, 0.7, 0.89]})",
      "execution_count": null,
      "outputs": []
    },
    {
      "metadata": {
        "trusted": true
      },
      "cell_type": "code",
      "source": "# create a dictionary to hold a table of values\nsines = {}\nsines['angle'] = []\nsines['sine'] = []\n\nfor i in tqdm(range(-10, 10)):\n    angle = i / 2.0 * pi\n    \n    # log a 2 (or more) values as a metric repeatedly. This will generate a 2-variable line chart if you have 2 numerical columns.\n    logging.log_row(name='Cosine Wave', angle=angle, cos=np.cos(angle))\n        \n    sines['angle'].append(angle)\n    sines['sine'].append(np.sin(angle))\n\n# log a dictionary as a table, this will generate a 2-variable chart if you have 2 numerical columns\nlogging.log_table(name='Sine Wave', value=sines)",
      "execution_count": null,
      "outputs": []
    },
    {
      "metadata": {},
      "cell_type": "markdown",
      "source": "### Log List"
    },
    {
      "metadata": {
        "trusted": true
      },
      "cell_type": "code",
      "source": "fibonacci_values = [0, 1, 1, 2, 3, 5, 8, 13, 21, 34, 55, 89]\nscaled_values = (i * pi for i in fibonacci_values)\n\n# Log a list of values. Note this will generate a single-variable line chart.\nlogging.log_list(name='Fibonacci', value=scaled_values)\n\nfor i in tqdm(range(-10, 10)):\n    # log a metric value repeatedly, this will generate a single-variable line chart.\n    logging.log(name='Sigmoid', value=1 / (1 + np.exp(-i)))",
      "execution_count": null,
      "outputs": []
    },
    {
      "metadata": {},
      "cell_type": "markdown",
      "source": "## Log an image\nThis is how to log a _matplotlib_ pyplot object."
    },
    {
      "metadata": {
        "trusted": true
      },
      "cell_type": "code",
      "source": "%matplotlib inline\n\n# Create a plot\nimport matplotlib.pyplot as plt\nangle = np.linspace(-3, 3, 50) * 2\nplt.plot(angle,np.tanh(angle), label='tanh')\nplt.legend(fontsize=12)\nplt.title('Hyperbolic Tangent', fontsize=16)\nplt.grid(True)\n\n# Log the plot to the run.  To log an arbitrary image, use the form run.log_image(name, path='./image_path.png')\nlogging.log_image(name='Hyperbolic Tangent', plot=plt)",
      "execution_count": null,
      "outputs": []
    },
    {
      "metadata": {
        "trusted": true
      },
      "cell_type": "code",
      "source": "#https://docs.microsoft.com/en-us/azure/machine-learning/service/media/concept-azure-machine-learning-architecture/workflow.png#lightbox\n!curl https://docs.microsoft.com/en-us/azure/machine-learning/service/media/concept-azure-machine-learning-architecture/workflow.png --output ./azmlworkflow.png\n\nlogging.log_image(name='AML workFlow',path='./azmlworkflow.png')",
      "execution_count": null,
      "outputs": []
    },
    {
      "metadata": {},
      "cell_type": "markdown",
      "source": "### Upload File"
    },
    {
      "metadata": {
        "trusted": true
      },
      "cell_type": "code",
      "source": "%%writefile .\\outputs\\pi.txt\n3.1415926535",
      "execution_count": null,
      "outputs": []
    },
    {
      "metadata": {
        "trusted": true
      },
      "cell_type": "code",
      "source": "# import pickle\n\n# with open(\".\\outputs\\pi.txt\",\"wb\") as f:\n#     pickle.dump(str('3.1415926535'),f)",
      "execution_count": null,
      "outputs": []
    },
    {
      "metadata": {
        "trusted": true
      },
      "cell_type": "code",
      "source": "props = logging.upload_file(name='pi_3.14', path_or_stream='./outputs/pi.txt')\nprops.serialize()",
      "execution_count": null,
      "outputs": []
    },
    {
      "metadata": {},
      "cell_type": "markdown",
      "source": "### Upload Model"
    },
    {
      "metadata": {
        "trusted": true
      },
      "cell_type": "code",
      "source": "logging.register_model(model_name='Pi_3.14',model_path ='./outputs/pi.txt')",
      "execution_count": null,
      "outputs": []
    },
    {
      "metadata": {},
      "cell_type": "markdown",
      "source": "## Complete Logging"
    },
    {
      "metadata": {
        "trusted": true
      },
      "cell_type": "code",
      "source": "logging.complete()",
      "execution_count": null,
      "outputs": []
    },
    {
      "metadata": {},
      "cell_type": "markdown",
      "source": "Even after the run is marked completed, you can still log things."
    },
    {
      "metadata": {},
      "cell_type": "markdown",
      "source": "## Examine the run"
    },
    {
      "metadata": {},
      "cell_type": "markdown",
      "source": "Now let's take a look at the run detail page in Azure portal. Make sure you checkout the various charts and plots generated/uploaded."
    },
    {
      "metadata": {
        "trusted": true
      },
      "cell_type": "code",
      "source": "logging",
      "execution_count": null,
      "outputs": []
    },
    {
      "metadata": {},
      "cell_type": "markdown",
      "source": "You can get all the metrics in that run back."
    },
    {
      "metadata": {
        "trusted": true
      },
      "cell_type": "code",
      "source": "logging.get_metrics()",
      "execution_count": null,
      "outputs": []
    },
    {
      "metadata": {},
      "cell_type": "markdown",
      "source": "You can also see the files uploaded for this run."
    },
    {
      "metadata": {
        "trusted": true
      },
      "cell_type": "code",
      "source": "logging.get_file_names()",
      "execution_count": null,
      "outputs": []
    },
    {
      "metadata": {},
      "cell_type": "markdown",
      "source": "You can also download all the files locally."
    },
    {
      "metadata": {
        "trusted": true
      },
      "cell_type": "code",
      "source": "import os\nos.makedirs('files', exist_ok=True)\n\nfor f in run.get_file_names():\n    dest = os.path.join('files', f.split('/')[-1])\n    print('Downloading file {} to {}...'.format(f, dest))\n    run.download_file(f, dest)   ",
      "execution_count": null,
      "outputs": []
    }
  ],
  "metadata": {
    "authors": [
      {
        "name": "haining"
      }
    ],
    "kernelspec": {
      "name": "python36",
      "display_name": "Python 3.6",
      "language": "python"
    },
    "language_info": {
      "mimetype": "text/x-python",
      "nbconvert_exporter": "python",
      "name": "python",
      "pygments_lexer": "ipython3",
      "version": "3.6.6",
      "file_extension": ".py",
      "codemirror_mode": {
        "version": 3,
        "name": "ipython"
      }
    }
  },
  "nbformat": 4,
  "nbformat_minor": 2
}