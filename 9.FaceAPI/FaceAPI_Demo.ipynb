{
  "cells": [
    {
      "metadata": {
        "collapsed": true
      },
      "cell_type": "markdown",
      "source": "# Create Azure Cognitive Service for Face "
    },
    {
      "metadata": {},
      "cell_type": "markdown",
      "source": "Before you start this lab, please take 6 photos of yourself and upload thoes to Azure Blob storage account.\n\nYou'll use your photo to train the cognitive service.\n\n> Note that each photo must have single person"
    },
    {
      "metadata": {},
      "cell_type": "markdown",
      "source": "# Create group\n\nTo train face of a person, you need to create group that a person wil be assigned\n\nTo make REST API call, you need Face API service Key. \n\nYou can get the key from the Face API at Azure Portal.\n"
    },
    {
      "metadata": {
        "trusted": true
      },
      "cell_type": "code",
      "source": "import http.client, urllib.request, urllib.parse, urllib.error, base64\nimport uuid\nimport json\n\nheaders = {\n    # Request headers\n    'Content-Type': 'application/json',\n    'Ocp-Apim-Subscription-Key': 'FaceAPIServiceKey',\n}\n\nparams = urllib.parse.urlencode({\n})\n\ngroup_id = str(uuid.uuid1())\n\n_body = '''\n{\n    \"name\": \"VIP-Membership\",\n    \"userData\": \"User-provided data attached to the large person group.\",\n    \"recognitionModel\": \"recognition_01\"\n}\n'''\n\ntry:\n    conn = http.client.HTTPSConnection('westus2.api.cognitive.microsoft.com')\n    conn.request(\"PUT\", \"/face/v1.0/largepersongroups/\"+group_id, _body, headers)\n    response = conn.getresponse()\n    data = response.read()\n    print(response.getcode())\n    conn.close()\nexcept Exception as e:\n    print(\"[Errno {0}] {1}\".format(e.errno, e.strerror))",
      "execution_count": null,
      "outputs": []
    },
    {
      "metadata": {},
      "cell_type": "markdown",
      "source": "# List the group "
    },
    {
      "metadata": {
        "trusted": true
      },
      "cell_type": "code",
      "source": "\nheaders = {\n    # Request headers\n    'Ocp-Apim-Subscription-Key': 'FaceAPIServiceKey',\n}\n\nparams = urllib.parse.urlencode({\n    # Request parameters\n    'start': 'V',\n    'top': '5',\n    'returnRecognitionModel': 'true',\n})\n\ntry:\n    conn = http.client.HTTPSConnection('westus2.api.cognitive.microsoft.com')\n    conn.request(\"GET\", \"/face/v1.0/largepersongroups\", \"\", headers)\n    response = conn.getresponse()\n    data = response.read()\n    for rec in json.loads(data):\n        print(rec)\n    conn.close()\nexcept Exception as e:\n    print(\"[Errno {0}] {1}\".format(e.errno, e.strerror))",
      "execution_count": null,
      "outputs": []
    },
    {
      "metadata": {},
      "cell_type": "markdown",
      "source": "# Create user before upload photo"
    },
    {
      "metadata": {
        "trusted": true
      },
      "cell_type": "code",
      "source": "headers = {\n    # Request headers\n    'Content-Type': 'application/json',\n    'Ocp-Apim-Subscription-Key': 'FaceAPIServiceKey',\n}\n\nparams = urllib.parse.urlencode({\n})\n\n_body='''\n{\n    \"name\": \"name\",\n    \"userData\": \"User-provided data attached to the person.\"\n}\n'''\n\nuser_id = \"\"\n\ntry:\n    conn = http.client.HTTPSConnection('westus2.api.cognitive.microsoft.com')\n    conn.request(\"POST\", \"/face/v1.0/largepersongroups/\"+group_id+\"/persons?%s\" % params, _body, headers)\n    response = conn.getresponse()\n    user_id = json.loads(response.read())[\"personId\"]\n    print(user_id)\n    conn.close()\nexcept Exception as e:\n    print(\"[Errno {0}] {1}\".format(e.errno, e.strerror))",
      "execution_count": null,
      "outputs": []
    },
    {
      "metadata": {},
      "cell_type": "markdown",
      "source": "# Upload photo"
    },
    {
      "metadata": {
        "trusted": true
      },
      "cell_type": "code",
      "source": "headers = {\n    # Request headers\n    'Content-Type': 'application/json',\n    'Ocp-Apim-Subscription-Key': 'FaceAPIServiceKey',\n}\n\nparams = urllib.parse.urlencode({\n    # Request parameters\n#     'userData': '{string}',\n#     'targetFace': '{string}',\n})\n\nimages = ['https://azlab0aml9378917344.blob.core.windows.net/pics/20190427_225442.jpg',\n          'https://azlab0aml9378917344.blob.core.windows.net/pics/20190427_225450.jpg',\n          'https://azlab0aml9378917344.blob.core.windows.net/pics/20190427_225454.jpg',\n          'https://azlab0aml9378917344.blob.core.windows.net/pics/20190427_225506.jpg',\n          'https://azlab0aml9378917344.blob.core.windows.net/pics/20190427_225507.jpg',\n         ]\n\n\nfor img in images:\n    _body = \"{\\\"url\\\": \\\"\"+img+\"\\\"}\"\n\n    try:\n        conn = http.client.HTTPSConnection('westus2.api.cognitive.microsoft.com')\n        conn.request(\"POST\", \"/face/v1.0/largepersongroups/\"+group_id+\"/persons/\"+user_id+\"/persistedfaces\", _body, headers)\n        response = conn.getresponse()\n        data = response.read()\n        print(data)\n        conn.close()\n    except Exception as e:\n        print(\"[Errno {0}] {1}\".format(e.errno, e.strerror))   \n    ",
      "execution_count": null,
      "outputs": []
    },
    {
      "metadata": {},
      "cell_type": "markdown",
      "source": "# Start training"
    },
    {
      "metadata": {
        "trusted": true
      },
      "cell_type": "code",
      "source": "headers = {\n    # Request headers\n    'Ocp-Apim-Subscription-Key': 'FaceAPIServiceKey',\n}\n\nparams = urllib.parse.urlencode({\n})\n\ntry:\n    conn = http.client.HTTPSConnection('westus2.api.cognitive.microsoft.com')\n    conn.request(\"POST\", \"/face/v1.0/largepersongroups/\"+group_id+\"/train?%s\" % params, \"\", headers)\n    response = conn.getresponse()\n    data = response.read()\n    print(response.getcode())\n    conn.close()\nexcept Exception as e:\n    print(\"[Errno {0}] {1}\".format(e.errno, e.strerror))",
      "execution_count": null,
      "outputs": []
    },
    {
      "metadata": {},
      "cell_type": "markdown",
      "source": "# Check training status"
    },
    {
      "metadata": {
        "trusted": true
      },
      "cell_type": "code",
      "source": "headers = {\n    # Request headers\n    'Ocp-Apim-Subscription-Key': 'FaceAPIServiceKey',\n}\n\nparams = urllib.parse.urlencode({\n})\n\ntry:\n    conn = http.client.HTTPSConnection('westus2.api.cognitive.microsoft.com')\n    conn.request(\"GET\", \"/face/v1.0/largepersongroups/\"+group_id+\"/training?%s\" % params, \"\", headers)\n    response = conn.getresponse()\n    data = response.read()\n    print(data)\n    conn.close()\nexcept Exception as e:\n    print(\"[Errno {0}] {1}\".format(e.errno, e.strerror))",
      "execution_count": null,
      "outputs": []
    },
    {
      "metadata": {},
      "cell_type": "markdown",
      "source": "# Get new face id to identify from a group"
    },
    {
      "metadata": {
        "trusted": true
      },
      "cell_type": "code",
      "source": "headers = {\n    # Request headers\n    'Content-Type': 'application/json',\n    'Ocp-Apim-Subscription-Key': 'FaceAPIServiceKey',\n}\n\nparams = urllib.parse.urlencode({\n    # Request parameters\n    'returnFaceId': 'true',\n#     'returnFaceLandmarks': 'false',\n#     'returnFaceAttributes': '{string}',\n#     'recognitionModel': 'recognition_02',\n#     'returnRecognitionModel': 'false',\n})\n\n_body = '''\n{\n    \"url\": \"https://azlab0aml9378917344.blob.core.windows.net/pics/20190427_225439.jpg\"\n}\n'''\n\n_faceId = \"\"\n\ntry:\n    conn = http.client.HTTPSConnection('westus2.api.cognitive.microsoft.com')\n    conn.request(\"POST\", \"/face/v1.0/detect?%s\" % params, _body, headers)\n    response = conn.getresponse()\n    data = response.read()\n    _faceId = json.loads(data)[0]['faceId']\n    print(_faceId)\n    conn.close()\nexcept Exception as e:\n    print(\"[Errno {0}] {1}\".format(e.errno, e.strerror))",
      "execution_count": null,
      "outputs": []
    },
    {
      "metadata": {},
      "cell_type": "markdown",
      "source": "# Run prediction"
    },
    {
      "metadata": {
        "trusted": true
      },
      "cell_type": "code",
      "source": "headers = {\n    # Request headers\n    'Content-Type': 'application/json',\n    'Ocp-Apim-Subscription-Key': 'FaceAPIServiceKey',\n}\n\nparams = urllib.parse.urlencode({\n})\n\n_body=\"{ \\\"largePersonGroupId\\\": \\\"\"+group_id+\"\\\", \\\"faceIds\\\": [\\\"\"+_faceId+\"\\\"],  \\\"maxNumOfCandidatesReturned\\\": 2, \\\"confidenceThreshold\\\": 0.5 }\"\n\n\ntry:\n    conn = http.client.HTTPSConnection('westus2.api.cognitive.microsoft.com')\n    conn.request(\"POST\", \"/face/v1.0/identify?%s\" % params, _body, headers)\n    response = conn.getresponse()\n    data = response.read()\n    print(json.loads(data)[0])\n    conn.close()\nexcept Exception as e:\n    print(\"[Errno {0}] {1}\".format(e.errno, e.strerror))",
      "execution_count": null,
      "outputs": []
    },
    {
      "metadata": {
        "trusted": true
      },
      "cell_type": "code",
      "source": "",
      "execution_count": null,
      "outputs": []
    }
  ],
  "metadata": {
    "kernelspec": {
      "name": "python36",
      "display_name": "Python 3.6",
      "language": "python"
    },
    "language_info": {
      "mimetype": "text/x-python",
      "nbconvert_exporter": "python",
      "name": "python",
      "pygments_lexer": "ipython3",
      "version": "3.6.6",
      "file_extension": ".py",
      "codemirror_mode": {
        "version": 3,
        "name": "ipython"
      }
    }
  },
  "nbformat": 4,
  "nbformat_minor": 2
}